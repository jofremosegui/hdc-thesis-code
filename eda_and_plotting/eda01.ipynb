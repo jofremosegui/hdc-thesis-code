{
 "cells": [
  {
   "cell_type": "markdown",
   "metadata": {},
   "source": [
    "# DATA EDA NOTEBOOK \n",
    "I use this notebook to understand our data,\n",
    "and decide how to do cross validation and test set splitting.\n",
    "\n",
    "In detail: \n",
    "I remove users who don't have any tac_flg=1.   \n",
    "After that, I have 12 users.   \n",
    "\n",
    "I splitted them to 3 groups (user_tac_group): high_tac, medium_tac, low_tac based on the tac_flg=1 percentage.   \n",
    "For each group, I choose one user for test set and got 3 of them in total.   \n",
    "\n",
    "For the remaining 9 users, I uses stratified group kfold to split them such that:   \n",
    "- one user has to be not in both train and validation. \n",
    "- balance the number of record between all type of {user_tac_group}_{tac_flg}. Ex: high_tac_0, high_tac_0, ..., low_tac_1, low_tac_0.  \n",
    "\n",
    "Finally, I have the list of test user, a set of cross validation that includes which users in train/val for each fold. "
   ]
  },
  {
   "cell_type": "code",
   "execution_count": 3,
   "metadata": {},
   "outputs": [],
   "source": [
    "import pandas as pd \n",
    "import numpy as np \n",
    "import polars as pl\n",
    "import time\n",
    "import os\n",
    "import sys\n",
    "import matplotlib.pyplot as plt\n",
    "import seaborn as sns\n",
    "from sklearn.model_selection import StratifiedGroupKFold, train_test_split\n",
    "from sklearn.cluster import KMeans\n",
    "\n"
   ]
  },
  {
   "cell_type": "code",
   "execution_count": null,
   "metadata": {},
   "outputs": [],
   "source": [
    "# Define the file paths\n",
    "file_paths = [\n",
    "    \"../../Preprocess_data/after_preprocess_group1.csv\",\n",
    "    \"../../Preprocess_data/after_preprocess_group3.csv\",\n",
    "    \"../../Preprocess_data/after_preprocess_group4.csv\",\n",
    "    \"../../Preprocess_data/after_preprocess_group5.csv\",\n",
    "    \"../../Preprocess_data/after_preprocess_group6.csv\"\n",
    "]\n",
    "\n",
    "# Load the CSV files into Polars DataFrames\n",
    "df_final = [pl.read_csv(file_path) for file_path in file_paths]\n",
    "# get the same columns from all the dataframes\n",
    "columns = df_final[-1].columns\n",
    "# Optionally, you can concatenate the DataFrames into a single DataFrame\n",
    "df_final = pl.concat([data_df[columns] for data_df in df_final])\n",
    "\n",
    "df_final = df_final.with_columns(\n",
    "    tac_flg = (df_final['tac (ug/L)']>=35).cast(float)\n",
    ")\n",
    "\n",
    "# Create new session_id such that it is unique for all users\n",
    "df_final = (\n",
    "    df_final.with_columns([\n",
    "        pl.concat_str([\n",
    "            pl.col('user_id').cast(pl.Utf8),\n",
    "            pl.lit('_'),\n",
    "            pl.col('session_id')\n",
    "        ]).alias('combined_key')\n",
    "    ])\n",
    "    .with_columns([\n",
    "        pl.col('combined_key').rank(method='dense').cast(pl.Int32).alias('session_id')\n",
    "    ])\n",
    ")\n",
    "\n",
    "df_final = df_final.drop('combined_key')\n",
    "df_final = df_final.select([\n",
    "    'user_id', 'session_id', 'tac_flg', 'tac (ug/L)', 'ZHEARTRATE'\n",
    "])\n"
   ]
  },
  {
   "cell_type": "code",
   "execution_count": 10,
   "metadata": {},
   "outputs": [
    {
     "name": "stdout",
     "output_type": "stream",
     "text": [
      "shape: (22, 5)\n",
      "┌─────────┬───────────────┬─────────────┬──────────┬──────────────────────┐\n",
      "│ user_id ┆ tac=1 records ┆ records_num ┆ tac mean ┆ tac_flg=1 percentage │\n",
      "│ ---     ┆ ---           ┆ ---         ┆ ---      ┆ ---                  │\n",
      "│ i64     ┆ f64           ┆ u32         ┆ str      ┆ str                  │\n",
      "╞═════════╪═══════════════╪═════════════╪══════════╪══════════════════════╡\n",
      "│ 28      ┆ 3.850001e6    ┆ 4334316     ┆ 105.38   ┆ 088.83               │\n",
      "│ 16      ┆ 209722.0      ┆ 333993      ┆ 055.68   ┆ 062.79               │\n",
      "│ 9       ┆ 349307.0      ┆ 794089      ┆ 092.03   ┆ 043.99               │\n",
      "│ 25      ┆ 213026.0      ┆ 501176      ┆ 076.32   ┆ 042.51               │\n",
      "│ 24      ┆ 332454.0      ┆ 799421      ┆ 063.87   ┆ 041.59               │\n",
      "│ 15      ┆ 529897.0      ┆ 1550116     ┆ 039.14   ┆ 034.18               │\n",
      "│ 6       ┆ 99612.0       ┆ 384322      ┆ 021.42   ┆ 025.92               │\n",
      "│ 26      ┆ 163220.0      ┆ 752196      ┆ 022.49   ┆ 021.70               │\n",
      "│ 31      ┆ 508651.0      ┆ 2707959     ┆ 019.10   ┆ 018.78               │\n",
      "│ 10      ┆ 124805.0      ┆ 722444      ┆ 027.57   ┆ 017.28               │\n",
      "│ 14      ┆ 793148.0      ┆ 7712947     ┆ 009.54   ┆ 010.28               │\n",
      "│ 11      ┆ 48000.0       ┆ 864104      ┆ 010.48   ┆ 005.55               │\n",
      "│ 8       ┆ 0.0           ┆ 1659218     ┆ 003.81   ┆ 000.00               │\n",
      "│ 12      ┆ 0.0           ┆ 3024789     ┆ 003.57   ┆ 000.00               │\n",
      "│ 13      ┆ 0.0           ┆ 872482      ┆ 005.49   ┆ 000.00               │\n",
      "│ 17      ┆ 0.0           ┆ 1192067     ┆ 003.90   ┆ 000.00               │\n",
      "│ 19      ┆ 0.0           ┆ 414289      ┆ 001.13   ┆ 000.00               │\n",
      "│ 22      ┆ 0.0           ┆ 699903      ┆ 007.32   ┆ 000.00               │\n",
      "│ 23      ┆ 0.0           ┆ 733916      ┆ 004.95   ┆ 000.00               │\n",
      "│ 27      ┆ 0.0           ┆ 201272      ┆ 015.16   ┆ 000.00               │\n",
      "│ 29      ┆ 0.0           ┆ 584328      ┆ 000.00   ┆ 000.00               │\n",
      "│ 30      ┆ 0.0           ┆ 257030      ┆ 009.64   ┆ 000.00               │\n",
      "└─────────┴───────────────┴─────────────┴──────────┴──────────────────────┘\n"
     ]
    },
    {
     "name": "stderr",
     "output_type": "stream",
     "text": [
      "sys:1: MapWithoutReturnDtypeWarning: Calling `map_elements` without specifying `return_dtype` can lead to unpredictable results. Specify `return_dtype` to silence this warning.\n",
      "sys:1: MapWithoutReturnDtypeWarning: Calling `map_elements` without specifying `return_dtype` can lead to unpredictable results. Specify `return_dtype` to silence this warning.\n"
     ]
    }
   ],
   "source": [
    "with pl.Config(tbl_rows=25):\n",
    "    tac_status_per_user_df = df_final.group_by('user_id').agg([\n",
    "        pl.col('tac_flg').sum().alias('tac=1 records'),\n",
    "        pl.col('tac_flg').count().alias('records_num'),\n",
    "        pl.col('tac (ug/L)').mean().round(2).alias('tac mean'),\n",
    "        (pl.col('tac_flg').sum() / pl.col('tac_flg').count() * 100).round(2).alias('tac_flg=1 percentage')\n",
    "    ]).sort('user_id', descending=False)\n",
    "    print(tac_status_per_user_df.with_columns([\n",
    "        pl.col('tac mean').cast(pl.Float64).map_elements(lambda x: f\"{x:06.2f}\").alias('tac mean'),\n",
    "        pl.col('tac_flg=1 percentage').cast(pl.Float64).map_elements(lambda x: f\"{x:06.2f}\").alias('tac_flg=1 percentage')\n",
    "    ]).sort('tac_flg=1 percentage', descending=True))"
   ]
  },
  {
   "cell_type": "code",
   "execution_count": 11,
   "metadata": {},
   "outputs": [
    {
     "data": {
      "text/plain": [
       "<Axes: >"
      ]
     },
     "execution_count": 11,
     "metadata": {},
     "output_type": "execute_result"
    },
    {
     "data": {
      "image/png": "[encoded data removed]",
      "text/plain": [
       "<Figure size 640x480 with 1 Axes>"
      ]
     },
     "metadata": {},
     "output_type": "display_data"
    }
   ],
   "source": [
    "sns.boxplot(tac_status_per_user_df['tac_flg=1 percentage'])"
   ]
  },
  {
   "cell_type": "code",
   "execution_count": 12,
   "metadata": {},
   "outputs": [
    {
     "data": {
      "text/html": [
       "<div><style>\n",
       ".dataframe > thead > tr,\n",
       ".dataframe > tbody > tr {\n",
       "  text-align: right;\n",
       "  white-space: pre-wrap;\n",
       "}\n",
       "</style>\n",
       "<small>shape: (9, 2)</small><table border=\"1\" class=\"dataframe\"><thead><tr><th>statistic</th><th>value</th></tr><tr><td>str</td><td>f64</td></tr></thead><tbody><tr><td>&quot;count&quot;</td><td>22.0</td></tr><tr><td>&quot;null_count&quot;</td><td>0.0</td></tr><tr><td>&quot;mean&quot;</td><td>18.790909</td></tr><tr><td>&quot;std&quot;</td><td>24.529784</td></tr><tr><td>&quot;min&quot;</td><td>0.0</td></tr><tr><td>&quot;25%&quot;</td><td>0.0</td></tr><tr><td>&quot;50%&quot;</td><td>10.28</td></tr><tr><td>&quot;75%&quot;</td><td>34.18</td></tr><tr><td>&quot;max&quot;</td><td>88.83</td></tr></tbody></table></div>"
      ],
      "text/plain": [
       "shape: (9, 2)\n",
       "┌────────────┬───────────┐\n",
       "│ statistic  ┆ value     │\n",
       "│ ---        ┆ ---       │\n",
       "│ str        ┆ f64       │\n",
       "╞════════════╪═══════════╡\n",
       "│ count      ┆ 22.0      │\n",
       "│ null_count ┆ 0.0       │\n",
       "│ mean       ┆ 18.790909 │\n",
       "│ std        ┆ 24.529784 │\n",
       "│ min        ┆ 0.0       │\n",
       "│ 25%        ┆ 0.0       │\n",
       "│ 50%        ┆ 10.28     │\n",
       "│ 75%        ┆ 34.18     │\n",
       "│ max        ┆ 88.83     │\n",
       "└────────────┴───────────┘"
      ]
     },
     "execution_count": 12,
     "metadata": {},
     "output_type": "execute_result"
    }
   ],
   "source": [
    "tac_status_per_user_df['tac_flg=1 percentage'].describe()"
   ]
  },
  {
   "cell_type": "markdown",
   "metadata": {},
   "source": [
    "We have some user whose tac percentage is 0 (no record for tac_flg=1). We should remove them from the dataset."
   ]
  },
  {
   "cell_type": "code",
   "execution_count": 13,
   "metadata": {},
   "outputs": [],
   "source": [
    "tac_status_per_user_df = tac_status_per_user_df.filter(\n",
    "    tac_status_per_user_df['tac_flg=1 percentage']>0\n",
    ").sort('tac_flg=1 percentage', descending=True)"
   ]
  },
  {
   "cell_type": "code",
   "execution_count": 16,
   "metadata": {},
   "outputs": [
    {
     "data": {
      "text/html": [
       "<div><style>\n",
       ".dataframe > thead > tr,\n",
       ".dataframe > tbody > tr {\n",
       "  text-align: right;\n",
       "  white-space: pre-wrap;\n",
       "}\n",
       "</style>\n",
       "<small>shape: (12, 5)</small><table border=\"1\" class=\"dataframe\"><thead><tr><th>user_id</th><th>tac=1 records</th><th>records_num</th><th>tac mean</th><th>tac_flg=1 percentage</th></tr><tr><td>i64</td><td>f64</td><td>u32</td><td>f64</td><td>f64</td></tr></thead><tbody><tr><td>28</td><td>3.850001e6</td><td>4334316</td><td>105.38</td><td>88.83</td></tr><tr><td>16</td><td>209722.0</td><td>333993</td><td>55.68</td><td>62.79</td></tr><tr><td>9</td><td>349307.0</td><td>794089</td><td>92.03</td><td>43.99</td></tr><tr><td>25</td><td>213026.0</td><td>501176</td><td>76.32</td><td>42.51</td></tr><tr><td>24</td><td>332454.0</td><td>799421</td><td>63.87</td><td>41.59</td></tr><tr><td>&hellip;</td><td>&hellip;</td><td>&hellip;</td><td>&hellip;</td><td>&hellip;</td></tr><tr><td>26</td><td>163220.0</td><td>752196</td><td>22.49</td><td>21.7</td></tr><tr><td>31</td><td>508651.0</td><td>2707959</td><td>19.1</td><td>18.78</td></tr><tr><td>10</td><td>124805.0</td><td>722444</td><td>27.57</td><td>17.28</td></tr><tr><td>14</td><td>793148.0</td><td>7712947</td><td>9.54</td><td>10.28</td></tr><tr><td>11</td><td>48000.0</td><td>864104</td><td>10.48</td><td>5.55</td></tr></tbody></table></div>"
      ],
      "text/plain": [
       "shape: (12, 5)\n",
       "┌─────────┬───────────────┬─────────────┬──────────┬──────────────────────┐\n",
       "│ user_id ┆ tac=1 records ┆ records_num ┆ tac mean ┆ tac_flg=1 percentage │\n",
       "│ ---     ┆ ---           ┆ ---         ┆ ---      ┆ ---                  │\n",
       "│ i64     ┆ f64           ┆ u32         ┆ f64      ┆ f64                  │\n",
       "╞═════════╪═══════════════╪═════════════╪══════════╪══════════════════════╡\n",
       "│ 28      ┆ 3.850001e6    ┆ 4334316     ┆ 105.38   ┆ 88.83                │\n",
       "│ 16      ┆ 209722.0      ┆ 333993      ┆ 55.68    ┆ 62.79                │\n",
       "│ 9       ┆ 349307.0      ┆ 794089      ┆ 92.03    ┆ 43.99                │\n",
       "│ 25      ┆ 213026.0      ┆ 501176      ┆ 76.32    ┆ 42.51                │\n",
       "│ 24      ┆ 332454.0      ┆ 799421      ┆ 63.87    ┆ 41.59                │\n",
       "│ …       ┆ …             ┆ …           ┆ …        ┆ …                    │\n",
       "│ 26      ┆ 163220.0      ┆ 752196      ┆ 22.49    ┆ 21.7                 │\n",
       "│ 31      ┆ 508651.0      ┆ 2707959     ┆ 19.1     ┆ 18.78                │\n",
       "│ 10      ┆ 124805.0      ┆ 722444      ┆ 27.57    ┆ 17.28                │\n",
       "│ 14      ┆ 793148.0      ┆ 7712947     ┆ 9.54     ┆ 10.28                │\n",
       "│ 11      ┆ 48000.0       ┆ 864104      ┆ 10.48    ┆ 5.55                 │\n",
       "└─────────┴───────────────┴─────────────┴──────────┴──────────────────────┘"
      ]
     },
     "execution_count": 16,
     "metadata": {},
     "output_type": "execute_result"
    }
   ],
   "source": [
    "tac_status_per_user_df"
   ]
  },
  {
   "cell_type": "markdown",
   "metadata": {},
   "source": [
    "now we have 12 users. but the tac_flg=1 percentage is vary. \n",
    "I will divide the users into 3 groups based on the tac_flg=1 percentage: high_tac_user, medium_tac_user, low_tac_user\n"
   ]
  },
  {
   "cell_type": "code",
   "execution_count": 17,
   "metadata": {},
   "outputs": [
    {
     "name": "stdout",
     "output_type": "stream",
     "text": [
      "Low Cluster: [25.92 21.7  18.78 17.28 10.28  5.55]\n",
      "Medium Cluster: [43.99 42.51 41.59 34.18]\n",
      "High Cluster: [88.83 62.79]\n"
     ]
    },
    {
     "data": {
      "image/png": "[encoded data removed]",
      "text/plain": [
       "<Figure size 1200x600 with 2 Axes>"
      ]
     },
     "metadata": {},
     "output_type": "display_data"
    }
   ],
   "source": [
    "# Input data\n",
    "data = tac_status_per_user_df['tac_flg=1 percentage'].to_numpy()\n",
    "\n",
    "# Reshape the data for K-means (needs to be 2D array)\n",
    "X = data.reshape(-1, 1)\n",
    "\n",
    "# Apply K-means clustering with 3 clusters\n",
    "kmeans = KMeans(n_clusters=3, random_state=42, n_init=10)\n",
    "kmeans.fit(X)\n",
    "\n",
    "# Get the cluster labels and centers\n",
    "labels = kmeans.labels_\n",
    "centers = kmeans.cluster_centers_.flatten()\n",
    "\n",
    "# Sort the centers to identify high, medium, and low clusters\n",
    "sorted_idx = np.argsort(centers)\n",
    "cluster_map = {sorted_idx[0]: 'low_tac_user', sorted_idx[1]: 'medium_tac_user', sorted_idx[2]: 'high_tac_user'}\n",
    "\n",
    "# Create arrays for each cluster\n",
    "high_values = data[labels == sorted_idx[2]]\n",
    "medium_values = data[labels == sorted_idx[1]]\n",
    "low_values = data[labels == sorted_idx[0]]\n",
    "\n",
    "print(\"Low Cluster:\", low_values)\n",
    "print(\"Medium Cluster:\", medium_values)\n",
    "print(\"High Cluster:\", high_values)\n",
    "\n",
    "# Visualize the clusters\n",
    "plt.figure(figsize=(12, 6))\n",
    "\n",
    "# Plot 1: Scatter plot of values colored by cluster\n",
    "plt.subplot(1, 2, 1)\n",
    "plt.scatter(range(len(data)), data, c=labels, cmap='viridis', s=100, alpha=0.8)\n",
    "plt.axhline(y=centers[sorted_idx[0]], color='red', linestyle='--', alpha=0.5, label=f'Low center: {centers[sorted_idx[0]]:.2f}')\n",
    "plt.axhline(y=centers[sorted_idx[1]], color='green', linestyle='--', alpha=0.5, label=f'Medium center: {centers[sorted_idx[1]]:.2f}')\n",
    "plt.axhline(y=centers[sorted_idx[2]], color='blue', linestyle='--', alpha=0.5, label=f'High center: {centers[sorted_idx[2]]:.2f}')\n",
    "plt.xlabel('Index')\n",
    "plt.ylabel('Percentage Value')\n",
    "plt.title('Clustered Data Points')\n",
    "plt.legend()\n",
    "\n",
    "# Plot 2: Visualization of all points on a single axis with color coding\n",
    "plt.subplot(1, 2, 2)\n",
    "plt.scatter(np.zeros_like(high_values), high_values, c='blue', label='High', s=100, alpha=0.7)\n",
    "plt.scatter(np.zeros_like(medium_values), medium_values, c='green', label='Medium', s=100, alpha=0.7)\n",
    "plt.scatter(np.zeros_like(low_values), low_values, c='red', label='Low', s=100, alpha=0.7)\n",
    "plt.axhline(y=centers[sorted_idx[0]], color='red', linestyle='--', alpha=0.5)\n",
    "plt.axhline(y=centers[sorted_idx[1]], color='green', linestyle='--', alpha=0.5)\n",
    "plt.axhline(y=centers[sorted_idx[2]], color='blue', linestyle='--', alpha=0.5)\n",
    "plt.xlabel('Cluster')\n",
    "plt.ylabel('Percentage Value')\n",
    "plt.title('1D Clustering Results')\n",
    "plt.xticks([])  # Remove x-axis ticks\n",
    "plt.legend()\n",
    "\n",
    "plt.tight_layout()\n",
    "# plt.savefig('clustering_visualization.png')\n",
    "plt.show()"
   ]
  },
  {
   "cell_type": "code",
   "execution_count": 18,
   "metadata": {},
   "outputs": [
    {
     "name": "stderr",
     "output_type": "stream",
     "text": [
      "/tmp/ipykernel_131848/1688219353.py:2: MapWithoutReturnDtypeWarning: Calling `map_elements` without specifying `return_dtype` can lead to unpredictable results. Specify `return_dtype` to silence this warning.\n",
      "  tac_status_per_user_df = tac_status_per_user_df.with_columns(\n"
     ]
    }
   ],
   "source": [
    "tac_status_per_user_df =tac_status_per_user_df.with_columns(tac_level_of_user_clusters=labels)\n",
    "tac_status_per_user_df = tac_status_per_user_df.with_columns(\n",
    "    tac_level_of_user_clusters=pl.col('tac_level_of_user_clusters').map_elements(\n",
    "        lambda x: cluster_map.get(x, 'unknown')\n",
    "    )\n",
    ")\n"
   ]
  },
  {
   "cell_type": "code",
   "execution_count": 19,
   "metadata": {},
   "outputs": [
    {
     "name": "stdout",
     "output_type": "stream",
     "text": [
      "shape: (12, 6)\n",
      "┌─────────┬───────────────┬─────────────┬──────────┬──────────────────────┬────────────────────────┐\n",
      "│ user_id ┆ tac=1 records ┆ records_num ┆ tac mean ┆ tac_flg=1 percentage ┆ tac_level_of_user_clus │\n",
      "│ ---     ┆ ---           ┆ ---         ┆ ---      ┆ ---                  ┆ ters                   │\n",
      "│ i64     ┆ f64           ┆ u32         ┆ f64      ┆ f64                  ┆ ---                    │\n",
      "│         ┆               ┆             ┆          ┆                      ┆ str                    │\n",
      "╞═════════╪═══════════════╪═════════════╪══════════╪══════════════════════╪════════════════════════╡\n",
      "│ 28      ┆ 3.850001e6    ┆ 4334316     ┆ 105.38   ┆ 88.83                ┆ high_tac_user          │\n",
      "│ 16      ┆ 209722.0      ┆ 333993      ┆ 55.68    ┆ 62.79                ┆ high_tac_user          │\n",
      "│ 9       ┆ 349307.0      ┆ 794089      ┆ 92.03    ┆ 43.99                ┆ medium_tac_user        │\n",
      "│ 25      ┆ 213026.0      ┆ 501176      ┆ 76.32    ┆ 42.51                ┆ medium_tac_user        │\n",
      "│ 24      ┆ 332454.0      ┆ 799421      ┆ 63.87    ┆ 41.59                ┆ medium_tac_user        │\n",
      "│ 15      ┆ 529897.0      ┆ 1550116     ┆ 39.14    ┆ 34.18                ┆ medium_tac_user        │\n",
      "│ 6       ┆ 99612.0       ┆ 384322      ┆ 21.42    ┆ 25.92                ┆ low_tac_user           │\n",
      "│ 26      ┆ 163220.0      ┆ 752196      ┆ 22.49    ┆ 21.7                 ┆ low_tac_user           │\n",
      "│ 31      ┆ 508651.0      ┆ 2707959     ┆ 19.1     ┆ 18.78                ┆ low_tac_user           │\n",
      "│ 10      ┆ 124805.0      ┆ 722444      ┆ 27.57    ┆ 17.28                ┆ low_tac_user           │\n",
      "│ 14      ┆ 793148.0      ┆ 7712947     ┆ 9.54     ┆ 10.28                ┆ low_tac_user           │\n",
      "│ 11      ┆ 48000.0       ┆ 864104      ┆ 10.48    ┆ 5.55                 ┆ low_tac_user           │\n",
      "└─────────┴───────────────┴─────────────┴──────────┴──────────────────────┴────────────────────────┘\n"
     ]
    }
   ],
   "source": [
    "with pl.Config(tbl_rows=25):\n",
    "    print(tac_status_per_user_df)"
   ]
  },
  {
   "cell_type": "markdown",
   "metadata": {},
   "source": [
    "for each cluster, I will choose as following users for test set \n",
    "- high_tac_user (2 users): 16 \n",
    "- medium tac user (4 users): 25\n",
    "- low tac user (6 users): 26\n"
   ]
  },
  {
   "cell_type": "code",
   "execution_count": 20,
   "metadata": {},
   "outputs": [],
   "source": [
    "user_tac_level_map = dict(zip(tac_status_per_user_df['user_id'], tac_status_per_user_df['tac_level_of_user_clusters']))"
   ]
  },
  {
   "cell_type": "code",
   "execution_count": 21,
   "metadata": {},
   "outputs": [
    {
     "name": "stdout",
     "output_type": "stream",
     "text": [
      "Train/val user list for cross validation: [6, 9, 10, 11, 14, 15, 24, 28, 31]\n",
      "Test user list:  [16, 25, 26]\n"
     ]
    }
   ],
   "source": [
    "test_user_arr = [16,25,26]\n",
    "accept_user_arr = sorted(set(user_tac_level_map.keys()) - set(test_user_arr))\n",
    "print('Train/val user list for cross validation:', accept_user_arr)\n",
    "print('Test user list: ', test_user_arr)"
   ]
  },
  {
   "cell_type": "code",
   "execution_count": 22,
   "metadata": {},
   "outputs": [],
   "source": [
    "df_final = df_final.filter(pl.col('user_id').is_in(accept_user_arr))\n",
    "df_final = df_final.with_columns(\n",
    "    tac_level_of_user_clusters=pl.col('user_id').replace_strict( user_tac_level_map)\n",
    ")\n",
    "df_final = df_final.with_columns(\n",
    "    stratified_flag=pl.col('tac_level_of_user_clusters') + pl.col('tac_flg').cast(pl.Utf8)\n",
    ")\n"
   ]
  },
  {
   "cell_type": "code",
   "execution_count": 23,
   "metadata": {},
   "outputs": [],
   "source": [
    "mock_feature = df_final['ZHEARTRATE'].to_numpy()\n",
    "user_id_arr = df_final['user_id'].to_numpy()\n",
    "stratified_flag_arr = df_final['stratified_flag'].to_numpy() # user type + tac_flg\n",
    "tac_flg_arr = df_final['tac_flg'].to_numpy()"
   ]
  },
  {
   "cell_type": "code",
   "execution_count": 26,
   "metadata": {},
   "outputs": [
    {
     "name": "stdout",
     "output_type": "stream",
     "text": [
      "\n",
      "==================================================\n",
      "Fold 1\n",
      "==================================================\n",
      "Train records: 18621292\n",
      "Test records:  1248426\n",
      "\n",
      "Stratified Flag Distribution in Training Set:\n",
      "------------------------------------------------------------\n",
      " Flag    Count  Percentage\n",
      "0.00% 12133029      65.16%\n",
      "1.00%  6488263      34.84%\n",
      "\n",
      "Stratified Flag Distribution in Test Set:\n",
      "------------------------------------------------------------\n",
      " Flag   Count  Percentage\n",
      "0.00% 1100814      88.18%\n",
      "1.00%  147612      11.82%\n",
      "\n",
      "Distribution Comparison (Test vs Train):\n",
      "------------------------------------------------------------\n",
      " Flag  Train_Count  Train_Pct  Test_Count  Test_Pct  Diff_Pct\n",
      "0.00%     12133029    100.00%     1100814   100.00%     0.00%\n",
      "1.00%      6488263    100.00%      147612   100.00%     0.00%\n",
      "\n",
      "Unique Users in Train: 7\n",
      "Unique Users in Test:  2\n",
      "Users in both Train and Test: 0\n",
      "\n",
      "Sample Train User IDs: [9, 10, 14, 15, 24, 28, 31]\n",
      "Sample Test User IDs: [11, 6]\n",
      "\n",
      "==================================================\n",
      "Fold 2\n",
      "==================================================\n",
      "Train records: 4678829\n",
      "Test records:  15190889\n",
      "\n",
      "Stratified Flag Distribution in Training Set:\n",
      "------------------------------------------------------------\n",
      " Flag   Count  Percentage\n",
      "0.00% 3897761      83.31%\n",
      "1.00%  781068      16.69%\n",
      "\n",
      "Stratified Flag Distribution in Test Set:\n",
      "------------------------------------------------------------\n",
      " Flag   Count  Percentage\n",
      "0.00% 9336082      61.46%\n",
      "1.00% 5854807      38.54%\n",
      "\n",
      "Distribution Comparison (Test vs Train):\n",
      "------------------------------------------------------------\n",
      " Flag  Train_Count  Train_Pct  Test_Count  Test_Pct  Diff_Pct\n",
      "0.00%      3897761    100.00%     9336082   100.00%     0.00%\n",
      "1.00%       781068    100.00%     5854807   100.00%     0.00%\n",
      "\n",
      "Unique Users in Train: 4\n",
      "Unique Users in Test:  5\n",
      "Users in both Train and Test: 0\n",
      "\n",
      "Sample Train User IDs: [10, 11, 6, 31]\n",
      "Sample Test User IDs: [9, 14, 15, 24, 28]\n",
      "\n",
      "==================================================\n",
      "Fold 3\n",
      "==================================================\n",
      "Train records: 16439315\n",
      "Test records:  3430403\n",
      "\n",
      "Stratified Flag Distribution in Training Set:\n",
      "------------------------------------------------------------\n",
      " Flag    Count  Percentage\n",
      "0.00% 10436896      63.49%\n",
      "1.00%  6002419      36.51%\n",
      "\n",
      "Stratified Flag Distribution in Test Set:\n",
      "------------------------------------------------------------\n",
      " Flag   Count  Percentage\n",
      "0.00% 2796947      81.53%\n",
      "1.00%  633456      18.47%\n",
      "\n",
      "Distribution Comparison (Test vs Train):\n",
      "------------------------------------------------------------\n",
      " Flag  Train_Count  Train_Pct  Test_Count  Test_Pct  Diff_Pct\n",
      "0.00%     10436896    100.00%     2796947   100.00%     0.00%\n",
      "1.00%      6002419    100.00%      633456   100.00%     0.00%\n",
      "\n",
      "Unique Users in Train: 7\n",
      "Unique Users in Test:  2\n",
      "Users in both Train and Test: 0\n",
      "\n",
      "Sample Train User IDs: [6, 9, 11, 14, 15, 24, 28]\n",
      "Sample Test User IDs: [10, 31]\n"
     ]
    }
   ],
   "source": [
    "fold = 1\n",
    "for train_idx, test_idx in StratifiedGroupKFold(n_splits=3, shuffle=True, random_state=100).split(mock_feature, stratified_flag_arr, user_id_arr):\n",
    "    print(f\"\\n{'='*50}\")\n",
    "    print(f\"Fold {fold}\")\n",
    "    print(f\"{'='*50}\")\n",
    "    fold += 1\n",
    "    \n",
    "    # Basic counts\n",
    "    train_count = len(train_idx)\n",
    "    test_count = len(test_idx)\n",
    "    print(f'Train records: {train_count}')\n",
    "    print(f'Test records:  {test_count}')\n",
    "    \n",
    "    # Get unique stratified flags and their counts\n",
    "    train_flags, train_flag_counts = np.unique(tac_flg_arr[train_idx], return_counts=True)\n",
    "    test_flags, test_flag_counts = np.unique(tac_flg_arr[test_idx], return_counts=True)\n",
    "    \n",
    "    # Calculate percentages\n",
    "    train_percentages = (train_flag_counts / train_count) * 100\n",
    "    test_percentages = (test_flag_counts / test_count) * 100\n",
    "    \n",
    "    # Create a DataFrame for better formatting\n",
    "    print(\"\\nStratified Flag Distribution in Training Set:\")\n",
    "    print(\"-\" * 60)\n",
    "    train_df = pd.DataFrame({\n",
    "        'Flag': train_flags,\n",
    "        'Count': train_flag_counts,\n",
    "        'Percentage': train_percentages\n",
    "    })\n",
    "    # Sort by flag value for consistency\n",
    "    train_df = train_df.sort_values('Flag')\n",
    "\n",
    "    print(train_df.to_string(index=False, float_format=lambda x: f\"{x:.2f}%\"))\n",
    "    \n",
    "    print(\"\\nStratified Flag Distribution in Test Set:\")\n",
    "    print(\"-\" * 60)\n",
    "    test_df = pd.DataFrame({\n",
    "        'Flag': test_flags,\n",
    "        'Count': test_flag_counts,\n",
    "        'Percentage': test_percentages\n",
    "    })\n",
    "    # Sort by flag value for consistency\n",
    "    test_df = test_df.sort_values('Flag')\n",
    "    print(test_df.to_string(index=False, float_format=lambda x: f\"{x:.2f}%\"))\n",
    "    \n",
    "    # Compare distribution between train and test\n",
    "    print(\"\\nDistribution Comparison (Test vs Train):\")\n",
    "    print(\"-\" * 60)\n",
    "    \n",
    "    # Create a combined dataframe for all flags\n",
    "    all_flags = np.union1d(train_flags, test_flags)\n",
    "    comparison_data = []\n",
    "    \n",
    "    for flag in all_flags:\n",
    "        train_count = train_flag_counts[train_flags == flag][0] if flag in train_flags else 0\n",
    "        test_count = test_flag_counts[test_flags == flag][0] if flag in test_flags else 0\n",
    "        train_pct = (train_count / train_count) * 100 if train_count > 0 else 0\n",
    "        test_pct = (test_count / test_count) * 100 if test_count > 0 else 0\n",
    "        diff_pct = test_pct - train_pct\n",
    "        \n",
    "        comparison_data.append({\n",
    "            'Flag': flag,\n",
    "            'Train_Count': train_count,\n",
    "            'Train_Pct': train_pct,\n",
    "            'Test_Count': test_count,\n",
    "            'Test_Pct': test_pct,\n",
    "            'Diff_Pct': diff_pct\n",
    "        })\n",
    "    \n",
    "    comparison_df = pd.DataFrame(comparison_data)\n",
    "    comparison_df = comparison_df.sort_values('Flag')\n",
    "    print(comparison_df.to_string(index=False, float_format=lambda x: f\"{x:.2f}%\"))\n",
    "    \n",
    "    # User ID information\n",
    "    train_users = set(user_id_arr[train_idx])\n",
    "    test_users = set(user_id_arr[test_idx])\n",
    "    \n",
    "    print(f\"\\nUnique Users in Train: {len(train_users)}\")\n",
    "    print(f\"Unique Users in Test:  {len(test_users)}\")\n",
    "    print(f\"Users in both Train and Test: {len(train_users.intersection(test_users))}\")\n",
    "    \n",
    "    # Optional: Print first few user IDs for reference\n",
    "    print(f\"\\nSample Train User IDs: {list(train_users)}\")\n",
    "    print(f\"Sample Test User IDs: {list(test_users)}\")"
   ]
  },
  {
   "cell_type": "code",
   "execution_count": null,
   "metadata": {},
   "outputs": [],
   "source": [
    "# Fold 1\n",
    "# Sample Train User IDs: [9, 10, 14, 15, 24, 28, 31]\n",
    "# Sample Test User IDs: [11, 6]\n",
    "\n",
    "# Fold 2\n",
    "# Sample Train User IDs: [10, 11, 6, 31],\n",
    "# Sample Test User IDs: [9, 14, 15, 24, 28],\n",
    "\n",
    "# Fold 3\n",
    "# Sample Train User IDs: [6, 9, 11, 14, 15, 24, 28]\n",
    "# Sample Test User IDs: [10, 31]\n",
    "\n",
    "# Test \n",
    "# [16,25,26]\n",
    "\n",
    "train = [[9, 10, 14, 15, 24, 28, 31],\n",
    "[10, 11, 6, 31],\n",
    "[6, 9, 11, 14, 15, 24, 28]]\n",
    "\n",
    "\n",
    "valid = [[11, 6],\n",
    "[9, 14, 15, 24, 28],\n",
    "[10, 31]]\n",
    "\n",
    "test = [16,25,26]\n",
    "\n"
   ]
  }
 ],
 "metadata": {
  "kernelspec": {
   "display_name": "azureml_py38_PT_TF",
   "language": "python",
   "name": "python3"
  },
  "language_info": {
   "codemirror_mode": {
    "name": "ipython",
    "version": 3
   },
   "file_extension": ".py",
   "mimetype": "text/x-python",
   "name": "python",
   "nbconvert_exporter": "python",
   "pygments_lexer": "ipython3",
   "version": "3.10.14"
  }
 },
 "nbformat": 4,
 "nbformat_minor": 2
}
